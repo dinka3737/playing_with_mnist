{
  "nbformat": 4,
  "nbformat_minor": 0,
  "metadata": {
    "kernelspec": {
      "name": "python3",
      "display_name": "Python 3"
    },
    "language_info": {
      "codemirror_mode": {
        "name": "ipython",
        "version": 3
      },
      "file_extension": ".py",
      "mimetype": "text/x-python",
      "name": "python",
      "nbconvert_exporter": "python",
      "pygments_lexer": "ipython3",
      "version": "3.6.3"
    },
    "colab": {
      "name": "my_mnist.ipynb",
      "provenance": [],
      "collapsed_sections": []
    },
    "accelerator": "GPU"
  },
  "cells": [
    {
      "cell_type": "markdown",
      "metadata": {
        "id": "cJdDpBavc1RK",
        "colab_type": "text"
      },
      "source": [
        "## importing Keras and dowloading data"
      ]
    },
    {
      "cell_type": "code",
      "metadata": {
        "id": "2eQWLuJ0ct23",
        "colab_type": "code",
        "colab": {}
      },
      "source": [
        "import numpy as np\n",
        "np.random.seed(123) "
      ],
      "execution_count": 0,
      "outputs": []
    },
    {
      "cell_type": "code",
      "metadata": {
        "id": "LVADUwTKct26",
        "colab_type": "code",
        "outputId": "f4230442-6ee8-428b-80ba-834639f84839",
        "colab": {
          "base_uri": "https://localhost:8080/",
          "height": 35
        }
      },
      "source": [
        "from keras.models import Sequential\n",
        "from keras.utils import np_utils\n",
        "\n",
        "#core layers:\n",
        "from keras.layers import Dense, Dropout, Activation, Flatten\n",
        "#CNN layers:\n",
        "from keras.layers import Convolution2D, MaxPooling2D"
      ],
      "execution_count": 2,
      "outputs": [
        {
          "output_type": "stream",
          "text": [
            "Using TensorFlow backend.\n"
          ],
          "name": "stderr"
        }
      ]
    },
    {
      "cell_type": "code",
      "metadata": {
        "id": "xLEtlIg7dSA1",
        "colab_type": "code",
        "colab": {}
      },
      "source": [
        "from keras import backend as K\n",
        "K.tensorflow_backend.set_image_dim_ordering('th')"
      ],
      "execution_count": 0,
      "outputs": []
    },
    {
      "cell_type": "code",
      "metadata": {
        "id": "O6k0ddRCct28",
        "colab_type": "code",
        "outputId": "842afc21-b431-40dc-fb01-563d71aa56ce",
        "colab": {
          "base_uri": "https://localhost:8080/",
          "height": 52
        }
      },
      "source": [
        "from keras.datasets import mnist\n",
        "(X_train, y_train), (X_test, y_test) = mnist.load_data()"
      ],
      "execution_count": 4,
      "outputs": [
        {
          "output_type": "stream",
          "text": [
            "Downloading data from https://s3.amazonaws.com/img-datasets/mnist.npz\n",
            "11493376/11490434 [==============================] - 2s 0us/step\n"
          ],
          "name": "stdout"
        }
      ]
    },
    {
      "cell_type": "markdown",
      "metadata": {
        "id": "JF-2bfWFct2_",
        "colab_type": "text"
      },
      "source": [
        "## sanity check"
      ]
    },
    {
      "cell_type": "code",
      "metadata": {
        "id": "H0KhX4IHct2_",
        "colab_type": "code",
        "outputId": "027f8534-2fbc-4c5a-cef2-fba90cdc766a",
        "colab": {
          "base_uri": "https://localhost:8080/",
          "height": 286
        }
      },
      "source": [
        "from matplotlib import pyplot as plt\n",
        "%matplotlib inline\n",
        "plt.imshow(X_train[7])"
      ],
      "execution_count": 6,
      "outputs": [
        {
          "output_type": "execute_result",
          "data": {
            "text/plain": [
              "<matplotlib.image.AxesImage at 0x7fa4e3310978>"
            ]
          },
          "metadata": {
            "tags": []
          },
          "execution_count": 6
        },
        {
          "output_type": "display_data",
          "data": {
            "image/png": "[encoded data removed]",
            "text/plain": [
              "<Figure size 432x288 with 1 Axes>"
            ]
          },
          "metadata": {
            "tags": []
          }
        }
      ]
    },
    {
      "cell_type": "code",
      "metadata": {
        "id": "sS76DHGJct3E",
        "colab_type": "code",
        "outputId": "60ec61c6-7ba5-4927-dc8c-c928a5b91499",
        "colab": {
          "base_uri": "https://localhost:8080/",
          "height": 35
        }
      },
      "source": [
        "y_train[7]"
      ],
      "execution_count": 7,
      "outputs": [
        {
          "output_type": "execute_result",
          "data": {
            "text/plain": [
              "3"
            ]
          },
          "metadata": {
            "tags": []
          },
          "execution_count": 7
        }
      ]
    },
    {
      "cell_type": "markdown",
      "metadata": {
        "id": "pbBrnM3ect3H",
        "colab_type": "text"
      },
      "source": [
        "# reshaping \n",
        "(my favoutrite!)"
      ]
    },
    {
      "cell_type": "code",
      "metadata": {
        "id": "3ufsYCUdct3H",
        "colab_type": "code",
        "outputId": "9d31df1e-5921-4d93-f884-b69f6244a928",
        "colab": {
          "base_uri": "https://localhost:8080/",
          "height": 35
        }
      },
      "source": [
        "X_train.shape"
      ],
      "execution_count": 8,
      "outputs": [
        {
          "output_type": "execute_result",
          "data": {
            "text/plain": [
              "(60000, 28, 28)"
            ]
          },
          "metadata": {
            "tags": []
          },
          "execution_count": 8
        }
      ]
    },
    {
      "cell_type": "code",
      "metadata": {
        "id": "_65gz2sGct3K",
        "colab_type": "code",
        "outputId": "3b7145fc-6c6c-4605-9022-fdd051e91bff",
        "colab": {
          "base_uri": "https://localhost:8080/",
          "height": 35
        }
      },
      "source": [
        "X_train.shape[0]"
      ],
      "execution_count": 9,
      "outputs": [
        {
          "output_type": "execute_result",
          "data": {
            "text/plain": [
              "60000"
            ]
          },
          "metadata": {
            "tags": []
          },
          "execution_count": 9
        }
      ]
    },
    {
      "cell_type": "markdown",
      "metadata": {
        "id": "SUPNg1TYct3M",
        "colab_type": "text"
      },
      "source": [
        "we want to transform our dataset from having shape (n, width, height) to (n, depth, width, height)."
      ]
    },
    {
      "cell_type": "code",
      "metadata": {
        "id": "ZTxU3BhCct3N",
        "colab_type": "code",
        "colab": {}
      },
      "source": [
        "X_train = X_train.reshape(X_train.shape[0], 1, 28, 28)\n",
        "X_test = X_test.reshape(X_test.shape[0], 1, 28, 28)"
      ],
      "execution_count": 0,
      "outputs": []
    },
    {
      "cell_type": "code",
      "metadata": {
        "id": "nX1575ZVct3Q",
        "colab_type": "code",
        "colab": {}
      },
      "source": [
        "# converting to float and normalization\n",
        "X_train = X_train.astype('float32')\n",
        "X_test = X_test.astype('float32')\n",
        "X_train /= 255\n",
        "X_test /= 255"
      ],
      "execution_count": 0,
      "outputs": []
    },
    {
      "cell_type": "code",
      "metadata": {
        "id": "0tpomzs4ct3T",
        "colab_type": "code",
        "colab": {}
      },
      "source": [
        "# making labels categorical\n",
        "Y_train = np_utils.to_categorical(y_train, 10)\n",
        "Y_test = np_utils.to_categorical(y_test, 10)"
      ],
      "execution_count": 0,
      "outputs": []
    },
    {
      "cell_type": "code",
      "metadata": {
        "id": "WuZ3kdahct3W",
        "colab_type": "code",
        "outputId": "bb08b3a4-4ede-4280-fed5-797c1a323c81",
        "colab": {
          "base_uri": "https://localhost:8080/",
          "height": 35
        }
      },
      "source": [
        "Y_train[7]"
      ],
      "execution_count": 13,
      "outputs": [
        {
          "output_type": "execute_result",
          "data": {
            "text/plain": [
              "array([0., 0., 0., 1., 0., 0., 0., 0., 0., 0.], dtype=float32)"
            ]
          },
          "metadata": {
            "tags": []
          },
          "execution_count": 13
        }
      ]
    },
    {
      "cell_type": "markdown",
      "metadata": {
        "id": "-e83LEI9ct3Y",
        "colab_type": "text"
      },
      "source": [
        "# Define model architecture"
      ]
    },
    {
      "cell_type": "code",
      "metadata": {
        "id": "7vYjtPa6ct3Z",
        "colab_type": "code",
        "colab": {}
      },
      "source": [
        "model = Sequential()"
      ],
      "execution_count": 0,
      "outputs": []
    },
    {
      "cell_type": "code",
      "metadata": {
        "id": "K_I2Um5-ct3c",
        "colab_type": "code",
        "outputId": "79123ed4-b271-4de7-d755-8bf8f965c13e",
        "colab": {
          "base_uri": "https://localhost:8080/",
          "height": 72
        }
      },
      "source": [
        "model.add(Convolution2D(32, 3, 3, activation='relu', input_shape=(1,28,28)))"
      ],
      "execution_count": 30,
      "outputs": [
        {
          "output_type": "stream",
          "text": [
            "/usr/local/lib/python3.6/dist-packages/ipykernel_launcher.py:1: UserWarning: Update your `Conv2D` call to the Keras 2 API: `Conv2D(32, (3, 3), activation=\"relu\", input_shape=(1, 28, 28...)`\n",
            "  \"\"\"Entry point for launching an IPython kernel.\n"
          ],
          "name": "stderr"
        }
      ]
    },
    {
      "cell_type": "code",
      "metadata": {
        "id": "3YdEtDv1ct3f",
        "colab_type": "code",
        "outputId": "bb81e08e-190a-4b4c-9398-ff89a6c5bb87",
        "colab": {
          "base_uri": "https://localhost:8080/",
          "height": 35
        }
      },
      "source": [
        "model.output_shape"
      ],
      "execution_count": 31,
      "outputs": [
        {
          "output_type": "execute_result",
          "data": {
            "text/plain": [
              "(None, 32, 26, 26)"
            ]
          },
          "metadata": {
            "tags": []
          },
          "execution_count": 31
        }
      ]
    },
    {
      "cell_type": "code",
      "metadata": {
        "id": "hOdTZIQ2ct3i",
        "colab_type": "code",
        "outputId": "f2275efc-70cb-4c78-ba17-4203a711ec24",
        "colab": {
          "base_uri": "https://localhost:8080/",
          "height": 72
        }
      },
      "source": [
        "model.add(Convolution2D(32, 3, 3, activation='relu'))\n",
        "model.add(MaxPooling2D(pool_size=(2,2)))\n",
        "model.add(Dropout(0.25))"
      ],
      "execution_count": 32,
      "outputs": [
        {
          "output_type": "stream",
          "text": [
            "/usr/local/lib/python3.6/dist-packages/ipykernel_launcher.py:1: UserWarning: Update your `Conv2D` call to the Keras 2 API: `Conv2D(32, (3, 3), activation=\"relu\")`\n",
            "  \"\"\"Entry point for launching an IPython kernel.\n"
          ],
          "name": "stderr"
        }
      ]
    },
    {
      "cell_type": "code",
      "metadata": {
        "id": "Nc5Y4BkKct3l",
        "colab_type": "code",
        "outputId": "d1b51c95-1b54-4ac7-bd63-92c86107f70d",
        "colab": {
          "base_uri": "https://localhost:8080/",
          "height": 35
        }
      },
      "source": [
        "model.output_shape"
      ],
      "execution_count": 33,
      "outputs": [
        {
          "output_type": "execute_result",
          "data": {
            "text/plain": [
              "(None, 32, 12, 12)"
            ]
          },
          "metadata": {
            "tags": []
          },
          "execution_count": 33
        }
      ]
    },
    {
      "cell_type": "code",
      "metadata": {
        "id": "P5oe1uXLct3p",
        "colab_type": "code",
        "colab": {}
      },
      "source": [
        "model.add(Flatten())\n",
        "model.add(Dense(128, activation='relu'))\n",
        "model.add(Dropout(0.5))\n",
        "model.add(Dense(10, activation='softmax'))"
      ],
      "execution_count": 0,
      "outputs": []
    },
    {
      "cell_type": "code",
      "metadata": {
        "id": "9hNdduHTdlt9",
        "colab_type": "code",
        "outputId": "7b63f67e-399b-4b20-c202-17fb766f8c85",
        "colab": {
          "base_uri": "https://localhost:8080/",
          "height": 35
        }
      },
      "source": [
        "model.output_shape"
      ],
      "execution_count": 35,
      "outputs": [
        {
          "output_type": "execute_result",
          "data": {
            "text/plain": [
              "(None, 10)"
            ]
          },
          "metadata": {
            "tags": []
          },
          "execution_count": 35
        }
      ]
    },
    {
      "cell_type": "code",
      "metadata": {
        "id": "lQSbx45igRFA",
        "colab_type": "code",
        "colab": {
          "base_uri": "https://localhost:8080/",
          "height": 432
        },
        "outputId": "bda0a1f3-3a38-42e1-f56b-d315661fb290"
      },
      "source": [
        "model.summary()"
      ],
      "execution_count": 36,
      "outputs": [
        {
          "output_type": "stream",
          "text": [
            "Model: \"sequential_2\"\n",
            "_________________________________________________________________\n",
            "Layer (type)                 Output Shape              Param #   \n",
            "=================================================================\n",
            "conv2d_3 (Conv2D)            (None, 32, 26, 26)        320       \n",
            "_________________________________________________________________\n",
            "conv2d_4 (Conv2D)            (None, 32, 24, 24)        9248      \n",
            "_________________________________________________________________\n",
            "max_pooling2d_2 (MaxPooling2 (None, 32, 12, 12)        0         \n",
            "_________________________________________________________________\n",
            "dropout_3 (Dropout)          (None, 32, 12, 12)        0         \n",
            "_________________________________________________________________\n",
            "flatten_2 (Flatten)          (None, 4608)              0         \n",
            "_________________________________________________________________\n",
            "dense_3 (Dense)              (None, 128)               589952    \n",
            "_________________________________________________________________\n",
            "dropout_4 (Dropout)          (None, 128)               0         \n",
            "_________________________________________________________________\n",
            "dense_4 (Dense)              (None, 10)                1290      \n",
            "=================================================================\n",
            "Total params: 600,810\n",
            "Trainable params: 600,810\n",
            "Non-trainable params: 0\n",
            "_________________________________________________________________\n"
          ],
          "name": "stdout"
        }
      ]
    },
    {
      "cell_type": "code",
      "metadata": {
        "id": "3cXfiv3uct3s",
        "colab_type": "code",
        "colab": {}
      },
      "source": [
        "model.compile(loss='categorical_crossentropy',\n",
        "              optimizer='adam',\n",
        "              metrics=['accuracy'])"
      ],
      "execution_count": 0,
      "outputs": []
    },
    {
      "cell_type": "code",
      "metadata": {
        "id": "Kd0rm1aAct3v",
        "colab_type": "code",
        "outputId": "4838b866-883d-4f50-8cd8-222ec2823692",
        "colab": {
          "base_uri": "https://localhost:8080/",
          "height": 417
        }
      },
      "source": [
        "history = model.fit(X_train, Y_train, \n",
        "          batch_size=32, nb_epoch=10, verbose=1)"
      ],
      "execution_count": 38,
      "outputs": [
        {
          "output_type": "stream",
          "text": [
            "/usr/local/lib/python3.6/dist-packages/ipykernel_launcher.py:2: UserWarning: The `nb_epoch` argument in `fit` has been renamed `epochs`.\n",
            "  \n"
          ],
          "name": "stderr"
        },
        {
          "output_type": "stream",
          "text": [
            "Epoch 1/10\n",
            "60000/60000 [==============================] - 18s 296us/step - loss: 0.2067 - acc: 0.9383\n",
            "Epoch 2/10\n",
            "60000/60000 [==============================] - 17s 291us/step - loss: 0.0854 - acc: 0.9753\n",
            "Epoch 3/10\n",
            "60000/60000 [==============================] - 17s 290us/step - loss: 0.0650 - acc: 0.9801\n",
            "Epoch 4/10\n",
            "60000/60000 [==============================] - 17s 289us/step - loss: 0.0565 - acc: 0.9830\n",
            "Epoch 5/10\n",
            "60000/60000 [==============================] - 17s 288us/step - loss: 0.0505 - acc: 0.9848\n",
            "Epoch 6/10\n",
            "60000/60000 [==============================] - 17s 289us/step - loss: 0.0448 - acc: 0.9864\n",
            "Epoch 7/10\n",
            "60000/60000 [==============================] - 17s 291us/step - loss: 0.0394 - acc: 0.9877\n",
            "Epoch 8/10\n",
            "60000/60000 [==============================] - 17s 288us/step - loss: 0.0360 - acc: 0.9885\n",
            "Epoch 9/10\n",
            "60000/60000 [==============================] - 17s 290us/step - loss: 0.0337 - acc: 0.9895\n",
            "Epoch 10/10\n",
            "60000/60000 [==============================] - 17s 288us/step - loss: 0.0313 - acc: 0.9900\n"
          ],
          "name": "stdout"
        }
      ]
    },
    {
      "cell_type": "code",
      "metadata": {
        "id": "pQTSz6XCi-_z",
        "colab_type": "code",
        "colab": {}
      },
      "source": [
        "model.save('my_mnist_model.h5')"
      ],
      "execution_count": 0,
      "outputs": []
    },
    {
      "cell_type": "code",
      "metadata": {
        "id": "iJXX_w4Xct30",
        "colab_type": "code",
        "colab": {}
      },
      "source": [
        "score = model.evaluate(X_test, Y_test, verbose=0)"
      ],
      "execution_count": 0,
      "outputs": []
    },
    {
      "cell_type": "code",
      "metadata": {
        "id": "uCTs-NIUeuN7",
        "colab_type": "code",
        "outputId": "aa41bf6c-e4a0-4657-b463-7526c493bb2c",
        "colab": {
          "base_uri": "https://localhost:8080/",
          "height": 35
        }
      },
      "source": [
        "score"
      ],
      "execution_count": 42,
      "outputs": [
        {
          "output_type": "execute_result",
          "data": {
            "text/plain": [
              "[0.03216203263477164, 0.9905]"
            ]
          },
          "metadata": {
            "tags": []
          },
          "execution_count": 42
        }
      ]
    },
    {
      "cell_type": "markdown",
      "metadata": {
        "id": "EENfRDdRjJmq",
        "colab_type": "text"
      },
      "source": [
        "# mistake analysis"
      ]
    },
    {
      "cell_type": "code",
      "metadata": {
        "id": "zW_WDgQOev1U",
        "colab_type": "code",
        "colab": {}
      },
      "source": [
        "test_pred= np.round(model.predict(X_test))"
      ],
      "execution_count": 0,
      "outputs": []
    },
    {
      "cell_type": "code",
      "metadata": {
        "id": "f64vefSZe0Or",
        "colab_type": "code",
        "outputId": "090f3485-cda4-495f-8306-44729d34418c",
        "colab": {
          "base_uri": "https://localhost:8080/",
          "height": 35
        }
      },
      "source": [
        "test_pred[73]"
      ],
      "execution_count": 0,
      "outputs": [
        {
          "output_type": "execute_result",
          "data": {
            "text/plain": [
              "array([0., 0., 0., 0., 0., 0., 0., 0., 0., 1.], dtype=float32)"
            ]
          },
          "metadata": {
            "tags": []
          },
          "execution_count": 48
        }
      ]
    },
    {
      "cell_type": "code",
      "metadata": {
        "id": "ulRH8arHe75k",
        "colab_type": "code",
        "outputId": "536d68a1-087f-4077-cd17-1fa78a04b563",
        "colab": {
          "base_uri": "https://localhost:8080/",
          "height": 286
        }
      },
      "source": [
        "plt.imshow(X_test[73].reshape(28, 28))"
      ],
      "execution_count": 0,
      "outputs": [
        {
          "output_type": "execute_result",
          "data": {
            "text/plain": [
              "<matplotlib.image.AxesImage at 0x7fd341085f98>"
            ]
          },
          "metadata": {
            "tags": []
          },
          "execution_count": 36
        },
        {
          "output_type": "display_data",
          "data": {
            "image/png": "[encoded data removed]",
            "text/plain": [
              "<Figure size 432x288 with 1 Axes>"
            ]
          },
          "metadata": {
            "tags": []
          }
        }
      ]
    },
    {
      "cell_type": "code",
      "metadata": {
        "id": "5nXB-_1gmuvq",
        "colab_type": "code",
        "outputId": "120c42c3-6585-4331-80d2-84bb75150871",
        "colab": {
          "base_uri": "https://localhost:8080/",
          "height": 35
        }
      },
      "source": [
        "np.argmax(test_pred,axis=1)== y_test"
      ],
      "execution_count": 0,
      "outputs": [
        {
          "output_type": "execute_result",
          "data": {
            "text/plain": [
              "array([ True,  True,  True, ...,  True,  True,  True])"
            ]
          },
          "metadata": {
            "tags": []
          },
          "execution_count": 70
        }
      ]
    },
    {
      "cell_type": "code",
      "metadata": {
        "id": "qCVWOQ0LfE5K",
        "colab_type": "code",
        "outputId": "45e577e0-02c7-4920-c1f4-b417b8bcbf3c",
        "colab": {
          "base_uri": "https://localhost:8080/",
          "height": 173
        }
      },
      "source": [
        "mistakes_idx = np.where(np.argmax(test_pred,axis=1)!= y_test)\n",
        "mistakes_idx"
      ],
      "execution_count": 0,
      "outputs": [
        {
          "output_type": "execute_result",
          "data": {
            "text/plain": [
              "(array([ 247,  321,  445,  449,  582,  659,  720,  813,  844,  924,  947,\n",
              "         965, 1014, 1033, 1039, 1112, 1226, 1232, 1247, 1260, 1299, 1319,\n",
              "        1364, 1393, 1414, 1527, 1530, 1549, 1681, 1709, 1901, 2035, 2040,\n",
              "        2053, 2129, 2130, 2135, 2182, 2237, 2266, 2293, 2406, 2414, 2462,\n",
              "        2488, 2597, 2654, 2720, 2896, 2927, 2939, 2970, 3060, 3384, 3422,\n",
              "        3520, 3558, 3778, 3780, 3808, 3853, 3893, 3906, 3941, 3985, 4078,\n",
              "        4176, 4740, 4761, 4807, 4956, 5331, 5937, 5955, 6157, 6166, 6173,\n",
              "        6505, 6555, 6571, 6576, 6597, 6625, 6740, 8059, 8094, 9009, 9015,\n",
              "        9638, 9642, 9664, 9679, 9692, 9729, 9770, 9839]),)"
            ]
          },
          "metadata": {
            "tags": []
          },
          "execution_count": 79
        }
      ]
    },
    {
      "cell_type": "code",
      "metadata": {
        "id": "tt1qnDhifeEO",
        "colab_type": "code",
        "outputId": "daf584ab-af64-47b5-fb4e-b715f4bab018",
        "colab": {
          "base_uri": "https://localhost:8080/",
          "height": 286
        }
      },
      "source": [
        "plt.imshow(X_test[9729].reshape(28, 28))"
      ],
      "execution_count": 0,
      "outputs": [
        {
          "output_type": "execute_result",
          "data": {
            "text/plain": [
              "<matplotlib.image.AxesImage at 0x7fd2fd03e898>"
            ]
          },
          "metadata": {
            "tags": []
          },
          "execution_count": 126
        },
        {
          "output_type": "display_data",
          "data": {
            "image/png": "[encoded data removed]",
            "text/plain": [
              "<Figure size 432x288 with 1 Axes>"
            ]
          },
          "metadata": {
            "tags": []
          }
        }
      ]
    },
    {
      "cell_type": "code",
      "metadata": {
        "id": "zTFsw4SdfrBm",
        "colab_type": "code",
        "outputId": "292d27b1-2ec3-46c1-f13f-2892a840aa69",
        "colab": {
          "base_uri": "https://localhost:8080/",
          "height": 35
        }
      },
      "source": [
        "np.argmax(test_pred[9729])"
      ],
      "execution_count": 0,
      "outputs": [
        {
          "output_type": "execute_result",
          "data": {
            "text/plain": [
              "6"
            ]
          },
          "metadata": {
            "tags": []
          },
          "execution_count": 127
        }
      ]
    },
    {
      "cell_type": "code",
      "metadata": {
        "id": "8Ob3JoUq70Bm",
        "colab_type": "code",
        "outputId": "d9907eb2-7606-42f9-942c-1d68ced7b7eb",
        "colab": {
          "base_uri": "https://localhost:8080/",
          "height": 35
        }
      },
      "source": [
        "y_test[9729]"
      ],
      "execution_count": 0,
      "outputs": [
        {
          "output_type": "execute_result",
          "data": {
            "text/plain": [
              "5"
            ]
          },
          "metadata": {
            "tags": []
          },
          "execution_count": 128
        }
      ]
    },
    {
      "cell_type": "code",
      "metadata": {
        "id": "jwPgCBxpnWQW",
        "colab_type": "code",
        "outputId": "887d96a8-2a8a-4dcf-8c28-b1516b57b826",
        "colab": {
          "base_uri": "https://localhost:8080/",
          "height": 286
        }
      },
      "source": [
        "plt.imshow(X_test[247].reshape(28, 28))"
      ],
      "execution_count": 0,
      "outputs": [
        {
          "output_type": "execute_result",
          "data": {
            "text/plain": [
              "<matplotlib.image.AxesImage at 0x7fd340f32da0>"
            ]
          },
          "metadata": {
            "tags": []
          },
          "execution_count": 75
        },
        {
          "output_type": "display_data",
          "data": {
            "image/png": "[encoded data removed]",
            "text/plain": [
              "<Figure size 432x288 with 1 Axes>"
            ]
          },
          "metadata": {
            "tags": []
          }
        }
      ]
    },
    {
      "cell_type": "code",
      "metadata": {
        "id": "9Qu4plbZn-8d",
        "colab_type": "code",
        "outputId": "358cda6f-8d1b-4e4d-eaa2-666d8889a5ef",
        "colab": {
          "base_uri": "https://localhost:8080/",
          "height": 35
        }
      },
      "source": [
        "np.argmax(test_pred[247])"
      ],
      "execution_count": 0,
      "outputs": [
        {
          "output_type": "execute_result",
          "data": {
            "text/plain": [
              "6"
            ]
          },
          "metadata": {
            "tags": []
          },
          "execution_count": 76
        }
      ]
    },
    {
      "cell_type": "code",
      "metadata": {
        "id": "wjiRx2K-oSsy",
        "colab_type": "code",
        "outputId": "6f84bc5e-30ee-48ba-aa49-239a67fcac15",
        "colab": {
          "base_uri": "https://localhost:8080/",
          "height": 321
        }
      },
      "source": [
        "plt.hist(y_test[mistakes_idx],bins=10)"
      ],
      "execution_count": 0,
      "outputs": [
        {
          "output_type": "execute_result",
          "data": {
            "text/plain": [
              "(array([ 1.,  5., 11.,  5.,  7., 14.,  9.,  7., 12., 25.]),\n",
              " array([0. , 0.9, 1.8, 2.7, 3.6, 4.5, 5.4, 6.3, 7.2, 8.1, 9. ]),\n",
              " <a list of 10 Patch objects>)"
            ]
          },
          "metadata": {
            "tags": []
          },
          "execution_count": 85
        },
        {
          "output_type": "display_data",
          "data": {
            "image/png": "[encoded data removed]",
            "text/plain": [
              "<Figure size 432x288 with 1 Axes>"
            ]
          },
          "metadata": {
            "tags": []
          }
        }
      ]
    },
    {
      "cell_type": "code",
      "metadata": {
        "id": "Pbp3hANHotdA",
        "colab_type": "code",
        "outputId": "83440d51-b155-4146-fdce-4110d0baa55b",
        "colab": {
          "base_uri": "https://localhost:8080/",
          "height": 321
        }
      },
      "source": [
        "plt.hist(np.argmax(test_pred,axis=1)[mistakes_idx],bins=10)"
      ],
      "execution_count": 0,
      "outputs": [
        {
          "output_type": "execute_result",
          "data": {
            "text/plain": [
              "(array([18.,  8.,  6.,  8.,  9.,  7., 10., 18.,  9.,  3.]),\n",
              " array([0. , 0.9, 1.8, 2.7, 3.6, 4.5, 5.4, 6.3, 7.2, 8.1, 9. ]),\n",
              " <a list of 10 Patch objects>)"
            ]
          },
          "metadata": {
            "tags": []
          },
          "execution_count": 88
        },
        {
          "output_type": "display_data",
          "data": {
            "image/png": "[encoded data removed]",
            "text/plain": [
              "<Figure size 432x288 with 1 Axes>"
            ]
          },
          "metadata": {
            "tags": []
          }
        }
      ]
    },
    {
      "cell_type": "code",
      "metadata": {
        "id": "G0EjReZMo4MD",
        "colab_type": "code",
        "colab": {}
      },
      "source": [
        "import pandas as pd"
      ],
      "execution_count": 0,
      "outputs": []
    },
    {
      "cell_type": "code",
      "metadata": {
        "id": "Nr_SOkSkpl14",
        "colab_type": "code",
        "colab": {}
      },
      "source": [
        "df = pd.DataFrame([y_test[mistakes_idx],np.argmax(test_pred,axis=1)[mistakes_idx]]).transpose()\n",
        "df.columns = ['label','prediction']"
      ],
      "execution_count": 0,
      "outputs": []
    },
    {
      "cell_type": "code",
      "metadata": {
        "id": "17rrqke8pv55",
        "colab_type": "code",
        "colab": {}
      },
      "source": [
        "df = df.groupby('label').prediction.value_counts().reset_index(name = 'cnt')\n",
        "df = df.pivot_table(index = 'label',columns = 'prediction',values = 'cnt')"
      ],
      "execution_count": 0,
      "outputs": []
    },
    {
      "cell_type": "code",
      "metadata": {
        "id": "efX2yv38qlpr",
        "colab_type": "code",
        "outputId": "22da9a7b-34bc-4d2a-9bca-4bd31f6ec07a",
        "colab": {
          "base_uri": "https://localhost:8080/",
          "height": 270
        }
      },
      "source": [
        "import seaborn as sns\n",
        "cm = sns.light_palette(\"red\", as_cmap=True)\n",
        "s = df.fillna(0).style.background_gradient(cmap=cm)\n",
        "s"
      ],
      "execution_count": 0,
      "outputs": [
        {
          "output_type": "execute_result",
          "data": {
            "text/html": [
              "<style  type=\"text/css\" >\n",
              "    #T_c6e21fa4_ef2b_11e9_a9c0_0242ac1c0002row0_col0 {\n",
              "            background-color:  #ffe5e5;\n",
              "            color:  #000000;\n",
              "        }    #T_c6e21fa4_ef2b_11e9_a9c0_0242ac1c0002row0_col1 {\n",
              "            background-color:  #ffe5e5;\n",
              "            color:  #000000;\n",
              "        }    #T_c6e21fa4_ef2b_11e9_a9c0_0242ac1c0002row0_col2 {\n",
              "            background-color:  #ffe5e5;\n",
              "            color:  #000000;\n",
              "        }    #T_c6e21fa4_ef2b_11e9_a9c0_0242ac1c0002row0_col3 {\n",
              "            background-color:  #ffe5e5;\n",
              "            color:  #000000;\n",
              "        }    #T_c6e21fa4_ef2b_11e9_a9c0_0242ac1c0002row0_col4 {\n",
              "            background-color:  #ffe5e5;\n",
              "            color:  #000000;\n",
              "        }    #T_c6e21fa4_ef2b_11e9_a9c0_0242ac1c0002row0_col5 {\n",
              "            background-color:  #ffe5e5;\n",
              "            color:  #000000;\n",
              "        }    #T_c6e21fa4_ef2b_11e9_a9c0_0242ac1c0002row0_col6 {\n",
              "            background-color:  #ffe5e5;\n",
              "            color:  #000000;\n",
              "        }    #T_c6e21fa4_ef2b_11e9_a9c0_0242ac1c0002row0_col7 {\n",
              "            background-color:  #ffc0c0;\n",
              "            color:  #000000;\n",
              "        }    #T_c6e21fa4_ef2b_11e9_a9c0_0242ac1c0002row0_col8 {\n",
              "            background-color:  #ffe5e5;\n",
              "            color:  #000000;\n",
              "        }    #T_c6e21fa4_ef2b_11e9_a9c0_0242ac1c0002row0_col9 {\n",
              "            background-color:  #ffe5e5;\n",
              "            color:  #000000;\n",
              "        }    #T_c6e21fa4_ef2b_11e9_a9c0_0242ac1c0002row1_col0 {\n",
              "            background-color:  #ffb8b8;\n",
              "            color:  #000000;\n",
              "        }    #T_c6e21fa4_ef2b_11e9_a9c0_0242ac1c0002row1_col1 {\n",
              "            background-color:  #ffe5e5;\n",
              "            color:  #000000;\n",
              "        }    #T_c6e21fa4_ef2b_11e9_a9c0_0242ac1c0002row1_col2 {\n",
              "            background-color:  #ffe5e5;\n",
              "            color:  #000000;\n",
              "        }    #T_c6e21fa4_ef2b_11e9_a9c0_0242ac1c0002row1_col3 {\n",
              "            background-color:  #ff8a8a;\n",
              "            color:  #000000;\n",
              "        }    #T_c6e21fa4_ef2b_11e9_a9c0_0242ac1c0002row1_col4 {\n",
              "            background-color:  #ffe5e5;\n",
              "            color:  #000000;\n",
              "        }    #T_c6e21fa4_ef2b_11e9_a9c0_0242ac1c0002row1_col5 {\n",
              "            background-color:  #ff9999;\n",
              "            color:  #000000;\n",
              "        }    #T_c6e21fa4_ef2b_11e9_a9c0_0242ac1c0002row1_col6 {\n",
              "            background-color:  #ffb8b8;\n",
              "            color:  #000000;\n",
              "        }    #T_c6e21fa4_ef2b_11e9_a9c0_0242ac1c0002row1_col7 {\n",
              "            background-color:  #ffe5e5;\n",
              "            color:  #000000;\n",
              "        }    #T_c6e21fa4_ef2b_11e9_a9c0_0242ac1c0002row1_col8 {\n",
              "            background-color:  #ffe5e5;\n",
              "            color:  #000000;\n",
              "        }    #T_c6e21fa4_ef2b_11e9_a9c0_0242ac1c0002row1_col9 {\n",
              "            background-color:  #ffe5e5;\n",
              "            color:  #000000;\n",
              "        }    #T_c6e21fa4_ef2b_11e9_a9c0_0242ac1c0002row2_col0 {\n",
              "            background-color:  #ffb8b8;\n",
              "            color:  #000000;\n",
              "        }    #T_c6e21fa4_ef2b_11e9_a9c0_0242ac1c0002row2_col1 {\n",
              "            background-color:  #ff0000;\n",
              "            color:  #f1f1f1;\n",
              "        }    #T_c6e21fa4_ef2b_11e9_a9c0_0242ac1c0002row2_col2 {\n",
              "            background-color:  #ffe5e5;\n",
              "            color:  #000000;\n",
              "        }    #T_c6e21fa4_ef2b_11e9_a9c0_0242ac1c0002row2_col3 {\n",
              "            background-color:  #ffe5e5;\n",
              "            color:  #000000;\n",
              "        }    #T_c6e21fa4_ef2b_11e9_a9c0_0242ac1c0002row2_col4 {\n",
              "            background-color:  #ffc0c0;\n",
              "            color:  #000000;\n",
              "        }    #T_c6e21fa4_ef2b_11e9_a9c0_0242ac1c0002row2_col5 {\n",
              "            background-color:  #ffe5e5;\n",
              "            color:  #000000;\n",
              "        }    #T_c6e21fa4_ef2b_11e9_a9c0_0242ac1c0002row2_col6 {\n",
              "            background-color:  #ffb8b8;\n",
              "            color:  #000000;\n",
              "        }    #T_c6e21fa4_ef2b_11e9_a9c0_0242ac1c0002row2_col7 {\n",
              "            background-color:  #ff2626;\n",
              "            color:  #f1f1f1;\n",
              "        }    #T_c6e21fa4_ef2b_11e9_a9c0_0242ac1c0002row2_col8 {\n",
              "            background-color:  #ffe5e5;\n",
              "            color:  #000000;\n",
              "        }    #T_c6e21fa4_ef2b_11e9_a9c0_0242ac1c0002row2_col9 {\n",
              "            background-color:  #ffe5e5;\n",
              "            color:  #000000;\n",
              "        }    #T_c6e21fa4_ef2b_11e9_a9c0_0242ac1c0002row3_col0 {\n",
              "            background-color:  #ffe5e5;\n",
              "            color:  #000000;\n",
              "        }    #T_c6e21fa4_ef2b_11e9_a9c0_0242ac1c0002row3_col1 {\n",
              "            background-color:  #ffe5e5;\n",
              "            color:  #000000;\n",
              "        }    #T_c6e21fa4_ef2b_11e9_a9c0_0242ac1c0002row3_col2 {\n",
              "            background-color:  #ffe5e5;\n",
              "            color:  #000000;\n",
              "        }    #T_c6e21fa4_ef2b_11e9_a9c0_0242ac1c0002row3_col3 {\n",
              "            background-color:  #ffe5e5;\n",
              "            color:  #000000;\n",
              "        }    #T_c6e21fa4_ef2b_11e9_a9c0_0242ac1c0002row3_col4 {\n",
              "            background-color:  #ffe5e5;\n",
              "            color:  #000000;\n",
              "        }    #T_c6e21fa4_ef2b_11e9_a9c0_0242ac1c0002row3_col5 {\n",
              "            background-color:  #ff4d4d;\n",
              "            color:  #000000;\n",
              "        }    #T_c6e21fa4_ef2b_11e9_a9c0_0242ac1c0002row3_col6 {\n",
              "            background-color:  #ffe5e5;\n",
              "            color:  #000000;\n",
              "        }    #T_c6e21fa4_ef2b_11e9_a9c0_0242ac1c0002row3_col7 {\n",
              "            background-color:  #ff9999;\n",
              "            color:  #000000;\n",
              "        }    #T_c6e21fa4_ef2b_11e9_a9c0_0242ac1c0002row3_col8 {\n",
              "            background-color:  #ffb8b8;\n",
              "            color:  #000000;\n",
              "        }    #T_c6e21fa4_ef2b_11e9_a9c0_0242ac1c0002row3_col9 {\n",
              "            background-color:  #ffe5e5;\n",
              "            color:  #000000;\n",
              "        }    #T_c6e21fa4_ef2b_11e9_a9c0_0242ac1c0002row4_col0 {\n",
              "            background-color:  #ffe5e5;\n",
              "            color:  #000000;\n",
              "        }    #T_c6e21fa4_ef2b_11e9_a9c0_0242ac1c0002row4_col1 {\n",
              "            background-color:  #ffe5e5;\n",
              "            color:  #000000;\n",
              "        }    #T_c6e21fa4_ef2b_11e9_a9c0_0242ac1c0002row4_col2 {\n",
              "            background-color:  #ffe5e5;\n",
              "            color:  #000000;\n",
              "        }    #T_c6e21fa4_ef2b_11e9_a9c0_0242ac1c0002row4_col3 {\n",
              "            background-color:  #ffe5e5;\n",
              "            color:  #000000;\n",
              "        }    #T_c6e21fa4_ef2b_11e9_a9c0_0242ac1c0002row4_col4 {\n",
              "            background-color:  #ffe5e5;\n",
              "            color:  #000000;\n",
              "        }    #T_c6e21fa4_ef2b_11e9_a9c0_0242ac1c0002row4_col5 {\n",
              "            background-color:  #ffe5e5;\n",
              "            color:  #000000;\n",
              "        }    #T_c6e21fa4_ef2b_11e9_a9c0_0242ac1c0002row4_col6 {\n",
              "            background-color:  #ff0000;\n",
              "            color:  #f1f1f1;\n",
              "        }    #T_c6e21fa4_ef2b_11e9_a9c0_0242ac1c0002row4_col7 {\n",
              "            background-color:  #ffe5e5;\n",
              "            color:  #000000;\n",
              "        }    #T_c6e21fa4_ef2b_11e9_a9c0_0242ac1c0002row4_col8 {\n",
              "            background-color:  #ffe5e5;\n",
              "            color:  #000000;\n",
              "        }    #T_c6e21fa4_ef2b_11e9_a9c0_0242ac1c0002row4_col9 {\n",
              "            background-color:  #ff0000;\n",
              "            color:  #f1f1f1;\n",
              "        }    #T_c6e21fa4_ef2b_11e9_a9c0_0242ac1c0002row5_col0 {\n",
              "            background-color:  #ff5c5c;\n",
              "            color:  #000000;\n",
              "        }    #T_c6e21fa4_ef2b_11e9_a9c0_0242ac1c0002row5_col1 {\n",
              "            background-color:  #ffe5e5;\n",
              "            color:  #000000;\n",
              "        }    #T_c6e21fa4_ef2b_11e9_a9c0_0242ac1c0002row5_col2 {\n",
              "            background-color:  #ffe5e5;\n",
              "            color:  #000000;\n",
              "        }    #T_c6e21fa4_ef2b_11e9_a9c0_0242ac1c0002row5_col3 {\n",
              "            background-color:  #ff0000;\n",
              "            color:  #f1f1f1;\n",
              "        }    #T_c6e21fa4_ef2b_11e9_a9c0_0242ac1c0002row5_col4 {\n",
              "            background-color:  #ffe5e5;\n",
              "            color:  #000000;\n",
              "        }    #T_c6e21fa4_ef2b_11e9_a9c0_0242ac1c0002row5_col5 {\n",
              "            background-color:  #ffe5e5;\n",
              "            color:  #000000;\n",
              "        }    #T_c6e21fa4_ef2b_11e9_a9c0_0242ac1c0002row5_col6 {\n",
              "            background-color:  #ff5c5c;\n",
              "            color:  #000000;\n",
              "        }    #T_c6e21fa4_ef2b_11e9_a9c0_0242ac1c0002row5_col7 {\n",
              "            background-color:  #ffc0c0;\n",
              "            color:  #000000;\n",
              "        }    #T_c6e21fa4_ef2b_11e9_a9c0_0242ac1c0002row5_col8 {\n",
              "            background-color:  #ff8a8a;\n",
              "            color:  #000000;\n",
              "        }    #T_c6e21fa4_ef2b_11e9_a9c0_0242ac1c0002row5_col9 {\n",
              "            background-color:  #ffe5e5;\n",
              "            color:  #000000;\n",
              "        }    #T_c6e21fa4_ef2b_11e9_a9c0_0242ac1c0002row6_col0 {\n",
              "            background-color:  #ff0000;\n",
              "            color:  #f1f1f1;\n",
              "        }    #T_c6e21fa4_ef2b_11e9_a9c0_0242ac1c0002row6_col1 {\n",
              "            background-color:  #ff4d4d;\n",
              "            color:  #000000;\n",
              "        }    #T_c6e21fa4_ef2b_11e9_a9c0_0242ac1c0002row6_col2 {\n",
              "            background-color:  #ffe5e5;\n",
              "            color:  #000000;\n",
              "        }    #T_c6e21fa4_ef2b_11e9_a9c0_0242ac1c0002row6_col3 {\n",
              "            background-color:  #ffe5e5;\n",
              "            color:  #000000;\n",
              "        }    #T_c6e21fa4_ef2b_11e9_a9c0_0242ac1c0002row6_col4 {\n",
              "            background-color:  #ffc0c0;\n",
              "            color:  #000000;\n",
              "        }    #T_c6e21fa4_ef2b_11e9_a9c0_0242ac1c0002row6_col5 {\n",
              "            background-color:  #ff9999;\n",
              "            color:  #000000;\n",
              "        }    #T_c6e21fa4_ef2b_11e9_a9c0_0242ac1c0002row6_col6 {\n",
              "            background-color:  #ffe5e5;\n",
              "            color:  #000000;\n",
              "        }    #T_c6e21fa4_ef2b_11e9_a9c0_0242ac1c0002row6_col7 {\n",
              "            background-color:  #ffe5e5;\n",
              "            color:  #000000;\n",
              "        }    #T_c6e21fa4_ef2b_11e9_a9c0_0242ac1c0002row6_col8 {\n",
              "            background-color:  #ffe5e5;\n",
              "            color:  #000000;\n",
              "        }    #T_c6e21fa4_ef2b_11e9_a9c0_0242ac1c0002row6_col9 {\n",
              "            background-color:  #ffe5e5;\n",
              "            color:  #000000;\n",
              "        }    #T_c6e21fa4_ef2b_11e9_a9c0_0242ac1c0002row7_col0 {\n",
              "            background-color:  #ffb8b8;\n",
              "            color:  #000000;\n",
              "        }    #T_c6e21fa4_ef2b_11e9_a9c0_0242ac1c0002row7_col1 {\n",
              "            background-color:  #ff4d4d;\n",
              "            color:  #000000;\n",
              "        }    #T_c6e21fa4_ef2b_11e9_a9c0_0242ac1c0002row7_col2 {\n",
              "            background-color:  #ff0000;\n",
              "            color:  #f1f1f1;\n",
              "        }    #T_c6e21fa4_ef2b_11e9_a9c0_0242ac1c0002row7_col3 {\n",
              "            background-color:  #ffe5e5;\n",
              "            color:  #000000;\n",
              "        }    #T_c6e21fa4_ef2b_11e9_a9c0_0242ac1c0002row7_col4 {\n",
              "            background-color:  #ffe5e5;\n",
              "            color:  #000000;\n",
              "        }    #T_c6e21fa4_ef2b_11e9_a9c0_0242ac1c0002row7_col5 {\n",
              "            background-color:  #ffe5e5;\n",
              "            color:  #000000;\n",
              "        }    #T_c6e21fa4_ef2b_11e9_a9c0_0242ac1c0002row7_col6 {\n",
              "            background-color:  #ffe5e5;\n",
              "            color:  #000000;\n",
              "        }    #T_c6e21fa4_ef2b_11e9_a9c0_0242ac1c0002row7_col7 {\n",
              "            background-color:  #ffe5e5;\n",
              "            color:  #000000;\n",
              "        }    #T_c6e21fa4_ef2b_11e9_a9c0_0242ac1c0002row7_col8 {\n",
              "            background-color:  #ffb8b8;\n",
              "            color:  #000000;\n",
              "        }    #T_c6e21fa4_ef2b_11e9_a9c0_0242ac1c0002row7_col9 {\n",
              "            background-color:  #ffe5e5;\n",
              "            color:  #000000;\n",
              "        }    #T_c6e21fa4_ef2b_11e9_a9c0_0242ac1c0002row8_col0 {\n",
              "            background-color:  #ff5c5c;\n",
              "            color:  #000000;\n",
              "        }    #T_c6e21fa4_ef2b_11e9_a9c0_0242ac1c0002row8_col1 {\n",
              "            background-color:  #ff9999;\n",
              "            color:  #000000;\n",
              "        }    #T_c6e21fa4_ef2b_11e9_a9c0_0242ac1c0002row8_col2 {\n",
              "            background-color:  #ff0000;\n",
              "            color:  #f1f1f1;\n",
              "        }    #T_c6e21fa4_ef2b_11e9_a9c0_0242ac1c0002row8_col3 {\n",
              "            background-color:  #ffe5e5;\n",
              "            color:  #000000;\n",
              "        }    #T_c6e21fa4_ef2b_11e9_a9c0_0242ac1c0002row8_col4 {\n",
              "            background-color:  #ffc0c0;\n",
              "            color:  #000000;\n",
              "        }    #T_c6e21fa4_ef2b_11e9_a9c0_0242ac1c0002row8_col5 {\n",
              "            background-color:  #ffe5e5;\n",
              "            color:  #000000;\n",
              "        }    #T_c6e21fa4_ef2b_11e9_a9c0_0242ac1c0002row8_col6 {\n",
              "            background-color:  #ffe5e5;\n",
              "            color:  #000000;\n",
              "        }    #T_c6e21fa4_ef2b_11e9_a9c0_0242ac1c0002row8_col7 {\n",
              "            background-color:  #ff7272;\n",
              "            color:  #000000;\n",
              "        }    #T_c6e21fa4_ef2b_11e9_a9c0_0242ac1c0002row8_col8 {\n",
              "            background-color:  #ffe5e5;\n",
              "            color:  #000000;\n",
              "        }    #T_c6e21fa4_ef2b_11e9_a9c0_0242ac1c0002row8_col9 {\n",
              "            background-color:  #ff7272;\n",
              "            color:  #000000;\n",
              "        }    #T_c6e21fa4_ef2b_11e9_a9c0_0242ac1c0002row9_col0 {\n",
              "            background-color:  #ff2e2e;\n",
              "            color:  #f1f1f1;\n",
              "        }    #T_c6e21fa4_ef2b_11e9_a9c0_0242ac1c0002row9_col1 {\n",
              "            background-color:  #ffe5e5;\n",
              "            color:  #000000;\n",
              "        }    #T_c6e21fa4_ef2b_11e9_a9c0_0242ac1c0002row9_col2 {\n",
              "            background-color:  #ffe5e5;\n",
              "            color:  #000000;\n",
              "        }    #T_c6e21fa4_ef2b_11e9_a9c0_0242ac1c0002row9_col3 {\n",
              "            background-color:  #ffb8b8;\n",
              "            color:  #000000;\n",
              "        }    #T_c6e21fa4_ef2b_11e9_a9c0_0242ac1c0002row9_col4 {\n",
              "            background-color:  #ff0000;\n",
              "            color:  #f1f1f1;\n",
              "        }    #T_c6e21fa4_ef2b_11e9_a9c0_0242ac1c0002row9_col5 {\n",
              "            background-color:  #ff0000;\n",
              "            color:  #f1f1f1;\n",
              "        }    #T_c6e21fa4_ef2b_11e9_a9c0_0242ac1c0002row9_col6 {\n",
              "            background-color:  #ffe5e5;\n",
              "            color:  #000000;\n",
              "        }    #T_c6e21fa4_ef2b_11e9_a9c0_0242ac1c0002row9_col7 {\n",
              "            background-color:  #ff0000;\n",
              "            color:  #f1f1f1;\n",
              "        }    #T_c6e21fa4_ef2b_11e9_a9c0_0242ac1c0002row9_col8 {\n",
              "            background-color:  #ff0000;\n",
              "            color:  #f1f1f1;\n",
              "        }    #T_c6e21fa4_ef2b_11e9_a9c0_0242ac1c0002row9_col9 {\n",
              "            background-color:  #ffe5e5;\n",
              "            color:  #000000;\n",
              "        }</style><table id=\"T_c6e21fa4_ef2b_11e9_a9c0_0242ac1c0002\" ><thead>    <tr>        <th class=\"index_name level0\" >prediction</th>        <th class=\"col_heading level0 col0\" >0</th>        <th class=\"col_heading level0 col1\" >1</th>        <th class=\"col_heading level0 col2\" >2</th>        <th class=\"col_heading level0 col3\" >3</th>        <th class=\"col_heading level0 col4\" >4</th>        <th class=\"col_heading level0 col5\" >5</th>        <th class=\"col_heading level0 col6\" >6</th>        <th class=\"col_heading level0 col7\" >7</th>        <th class=\"col_heading level0 col8\" >8</th>        <th class=\"col_heading level0 col9\" >9</th>    </tr>    <tr>        <th class=\"index_name level0\" >label</th>        <th class=\"blank\" ></th>        <th class=\"blank\" ></th>        <th class=\"blank\" ></th>        <th class=\"blank\" ></th>        <th class=\"blank\" ></th>        <th class=\"blank\" ></th>        <th class=\"blank\" ></th>        <th class=\"blank\" ></th>        <th class=\"blank\" ></th>        <th class=\"blank\" ></th>    </tr></thead><tbody>\n",
              "                <tr>\n",
              "                        <th id=\"T_c6e21fa4_ef2b_11e9_a9c0_0242ac1c0002level0_row0\" class=\"row_heading level0 row0\" >0</th>\n",
              "                        <td id=\"T_c6e21fa4_ef2b_11e9_a9c0_0242ac1c0002row0_col0\" class=\"data row0 col0\" >0</td>\n",
              "                        <td id=\"T_c6e21fa4_ef2b_11e9_a9c0_0242ac1c0002row0_col1\" class=\"data row0 col1\" >0</td>\n",
              "                        <td id=\"T_c6e21fa4_ef2b_11e9_a9c0_0242ac1c0002row0_col2\" class=\"data row0 col2\" >0</td>\n",
              "                        <td id=\"T_c6e21fa4_ef2b_11e9_a9c0_0242ac1c0002row0_col3\" class=\"data row0 col3\" >0</td>\n",
              "                        <td id=\"T_c6e21fa4_ef2b_11e9_a9c0_0242ac1c0002row0_col4\" class=\"data row0 col4\" >0</td>\n",
              "                        <td id=\"T_c6e21fa4_ef2b_11e9_a9c0_0242ac1c0002row0_col5\" class=\"data row0 col5\" >0</td>\n",
              "                        <td id=\"T_c6e21fa4_ef2b_11e9_a9c0_0242ac1c0002row0_col6\" class=\"data row0 col6\" >0</td>\n",
              "                        <td id=\"T_c6e21fa4_ef2b_11e9_a9c0_0242ac1c0002row0_col7\" class=\"data row0 col7\" >1</td>\n",
              "                        <td id=\"T_c6e21fa4_ef2b_11e9_a9c0_0242ac1c0002row0_col8\" class=\"data row0 col8\" >0</td>\n",
              "                        <td id=\"T_c6e21fa4_ef2b_11e9_a9c0_0242ac1c0002row0_col9\" class=\"data row0 col9\" >0</td>\n",
              "            </tr>\n",
              "            <tr>\n",
              "                        <th id=\"T_c6e21fa4_ef2b_11e9_a9c0_0242ac1c0002level0_row1\" class=\"row_heading level0 row1\" >1</th>\n",
              "                        <td id=\"T_c6e21fa4_ef2b_11e9_a9c0_0242ac1c0002row1_col0\" class=\"data row1 col0\" >1</td>\n",
              "                        <td id=\"T_c6e21fa4_ef2b_11e9_a9c0_0242ac1c0002row1_col1\" class=\"data row1 col1\" >0</td>\n",
              "                        <td id=\"T_c6e21fa4_ef2b_11e9_a9c0_0242ac1c0002row1_col2\" class=\"data row1 col2\" >0</td>\n",
              "                        <td id=\"T_c6e21fa4_ef2b_11e9_a9c0_0242ac1c0002row1_col3\" class=\"data row1 col3\" >2</td>\n",
              "                        <td id=\"T_c6e21fa4_ef2b_11e9_a9c0_0242ac1c0002row1_col4\" class=\"data row1 col4\" >0</td>\n",
              "                        <td id=\"T_c6e21fa4_ef2b_11e9_a9c0_0242ac1c0002row1_col5\" class=\"data row1 col5\" >1</td>\n",
              "                        <td id=\"T_c6e21fa4_ef2b_11e9_a9c0_0242ac1c0002row1_col6\" class=\"data row1 col6\" >1</td>\n",
              "                        <td id=\"T_c6e21fa4_ef2b_11e9_a9c0_0242ac1c0002row1_col7\" class=\"data row1 col7\" >0</td>\n",
              "                        <td id=\"T_c6e21fa4_ef2b_11e9_a9c0_0242ac1c0002row1_col8\" class=\"data row1 col8\" >0</td>\n",
              "                        <td id=\"T_c6e21fa4_ef2b_11e9_a9c0_0242ac1c0002row1_col9\" class=\"data row1 col9\" >0</td>\n",
              "            </tr>\n",
              "            <tr>\n",
              "                        <th id=\"T_c6e21fa4_ef2b_11e9_a9c0_0242ac1c0002level0_row2\" class=\"row_heading level0 row2\" >2</th>\n",
              "                        <td id=\"T_c6e21fa4_ef2b_11e9_a9c0_0242ac1c0002row2_col0\" class=\"data row2 col0\" >1</td>\n",
              "                        <td id=\"T_c6e21fa4_ef2b_11e9_a9c0_0242ac1c0002row2_col1\" class=\"data row2 col1\" >3</td>\n",
              "                        <td id=\"T_c6e21fa4_ef2b_11e9_a9c0_0242ac1c0002row2_col2\" class=\"data row2 col2\" >0</td>\n",
              "                        <td id=\"T_c6e21fa4_ef2b_11e9_a9c0_0242ac1c0002row2_col3\" class=\"data row2 col3\" >0</td>\n",
              "                        <td id=\"T_c6e21fa4_ef2b_11e9_a9c0_0242ac1c0002row2_col4\" class=\"data row2 col4\" >1</td>\n",
              "                        <td id=\"T_c6e21fa4_ef2b_11e9_a9c0_0242ac1c0002row2_col5\" class=\"data row2 col5\" >0</td>\n",
              "                        <td id=\"T_c6e21fa4_ef2b_11e9_a9c0_0242ac1c0002row2_col6\" class=\"data row2 col6\" >1</td>\n",
              "                        <td id=\"T_c6e21fa4_ef2b_11e9_a9c0_0242ac1c0002row2_col7\" class=\"data row2 col7\" >5</td>\n",
              "                        <td id=\"T_c6e21fa4_ef2b_11e9_a9c0_0242ac1c0002row2_col8\" class=\"data row2 col8\" >0</td>\n",
              "                        <td id=\"T_c6e21fa4_ef2b_11e9_a9c0_0242ac1c0002row2_col9\" class=\"data row2 col9\" >0</td>\n",
              "            </tr>\n",
              "            <tr>\n",
              "                        <th id=\"T_c6e21fa4_ef2b_11e9_a9c0_0242ac1c0002level0_row3\" class=\"row_heading level0 row3\" >3</th>\n",
              "                        <td id=\"T_c6e21fa4_ef2b_11e9_a9c0_0242ac1c0002row3_col0\" class=\"data row3 col0\" >0</td>\n",
              "                        <td id=\"T_c6e21fa4_ef2b_11e9_a9c0_0242ac1c0002row3_col1\" class=\"data row3 col1\" >0</td>\n",
              "                        <td id=\"T_c6e21fa4_ef2b_11e9_a9c0_0242ac1c0002row3_col2\" class=\"data row3 col2\" >0</td>\n",
              "                        <td id=\"T_c6e21fa4_ef2b_11e9_a9c0_0242ac1c0002row3_col3\" class=\"data row3 col3\" >0</td>\n",
              "                        <td id=\"T_c6e21fa4_ef2b_11e9_a9c0_0242ac1c0002row3_col4\" class=\"data row3 col4\" >0</td>\n",
              "                        <td id=\"T_c6e21fa4_ef2b_11e9_a9c0_0242ac1c0002row3_col5\" class=\"data row3 col5\" >2</td>\n",
              "                        <td id=\"T_c6e21fa4_ef2b_11e9_a9c0_0242ac1c0002row3_col6\" class=\"data row3 col6\" >0</td>\n",
              "                        <td id=\"T_c6e21fa4_ef2b_11e9_a9c0_0242ac1c0002row3_col7\" class=\"data row3 col7\" >2</td>\n",
              "                        <td id=\"T_c6e21fa4_ef2b_11e9_a9c0_0242ac1c0002row3_col8\" class=\"data row3 col8\" >1</td>\n",
              "                        <td id=\"T_c6e21fa4_ef2b_11e9_a9c0_0242ac1c0002row3_col9\" class=\"data row3 col9\" >0</td>\n",
              "            </tr>\n",
              "            <tr>\n",
              "                        <th id=\"T_c6e21fa4_ef2b_11e9_a9c0_0242ac1c0002level0_row4\" class=\"row_heading level0 row4\" >4</th>\n",
              "                        <td id=\"T_c6e21fa4_ef2b_11e9_a9c0_0242ac1c0002row4_col0\" class=\"data row4 col0\" >0</td>\n",
              "                        <td id=\"T_c6e21fa4_ef2b_11e9_a9c0_0242ac1c0002row4_col1\" class=\"data row4 col1\" >0</td>\n",
              "                        <td id=\"T_c6e21fa4_ef2b_11e9_a9c0_0242ac1c0002row4_col2\" class=\"data row4 col2\" >0</td>\n",
              "                        <td id=\"T_c6e21fa4_ef2b_11e9_a9c0_0242ac1c0002row4_col3\" class=\"data row4 col3\" >0</td>\n",
              "                        <td id=\"T_c6e21fa4_ef2b_11e9_a9c0_0242ac1c0002row4_col4\" class=\"data row4 col4\" >0</td>\n",
              "                        <td id=\"T_c6e21fa4_ef2b_11e9_a9c0_0242ac1c0002row4_col5\" class=\"data row4 col5\" >0</td>\n",
              "                        <td id=\"T_c6e21fa4_ef2b_11e9_a9c0_0242ac1c0002row4_col6\" class=\"data row4 col6\" >5</td>\n",
              "                        <td id=\"T_c6e21fa4_ef2b_11e9_a9c0_0242ac1c0002row4_col7\" class=\"data row4 col7\" >0</td>\n",
              "                        <td id=\"T_c6e21fa4_ef2b_11e9_a9c0_0242ac1c0002row4_col8\" class=\"data row4 col8\" >0</td>\n",
              "                        <td id=\"T_c6e21fa4_ef2b_11e9_a9c0_0242ac1c0002row4_col9\" class=\"data row4 col9\" >2</td>\n",
              "            </tr>\n",
              "            <tr>\n",
              "                        <th id=\"T_c6e21fa4_ef2b_11e9_a9c0_0242ac1c0002level0_row5\" class=\"row_heading level0 row5\" >5</th>\n",
              "                        <td id=\"T_c6e21fa4_ef2b_11e9_a9c0_0242ac1c0002row5_col0\" class=\"data row5 col0\" >3</td>\n",
              "                        <td id=\"T_c6e21fa4_ef2b_11e9_a9c0_0242ac1c0002row5_col1\" class=\"data row5 col1\" >0</td>\n",
              "                        <td id=\"T_c6e21fa4_ef2b_11e9_a9c0_0242ac1c0002row5_col2\" class=\"data row5 col2\" >0</td>\n",
              "                        <td id=\"T_c6e21fa4_ef2b_11e9_a9c0_0242ac1c0002row5_col3\" class=\"data row5 col3\" >5</td>\n",
              "                        <td id=\"T_c6e21fa4_ef2b_11e9_a9c0_0242ac1c0002row5_col4\" class=\"data row5 col4\" >0</td>\n",
              "                        <td id=\"T_c6e21fa4_ef2b_11e9_a9c0_0242ac1c0002row5_col5\" class=\"data row5 col5\" >0</td>\n",
              "                        <td id=\"T_c6e21fa4_ef2b_11e9_a9c0_0242ac1c0002row5_col6\" class=\"data row5 col6\" >3</td>\n",
              "                        <td id=\"T_c6e21fa4_ef2b_11e9_a9c0_0242ac1c0002row5_col7\" class=\"data row5 col7\" >1</td>\n",
              "                        <td id=\"T_c6e21fa4_ef2b_11e9_a9c0_0242ac1c0002row5_col8\" class=\"data row5 col8\" >2</td>\n",
              "                        <td id=\"T_c6e21fa4_ef2b_11e9_a9c0_0242ac1c0002row5_col9\" class=\"data row5 col9\" >0</td>\n",
              "            </tr>\n",
              "            <tr>\n",
              "                        <th id=\"T_c6e21fa4_ef2b_11e9_a9c0_0242ac1c0002level0_row6\" class=\"row_heading level0 row6\" >6</th>\n",
              "                        <td id=\"T_c6e21fa4_ef2b_11e9_a9c0_0242ac1c0002row6_col0\" class=\"data row6 col0\" >5</td>\n",
              "                        <td id=\"T_c6e21fa4_ef2b_11e9_a9c0_0242ac1c0002row6_col1\" class=\"data row6 col1\" >2</td>\n",
              "                        <td id=\"T_c6e21fa4_ef2b_11e9_a9c0_0242ac1c0002row6_col2\" class=\"data row6 col2\" >0</td>\n",
              "                        <td id=\"T_c6e21fa4_ef2b_11e9_a9c0_0242ac1c0002row6_col3\" class=\"data row6 col3\" >0</td>\n",
              "                        <td id=\"T_c6e21fa4_ef2b_11e9_a9c0_0242ac1c0002row6_col4\" class=\"data row6 col4\" >1</td>\n",
              "                        <td id=\"T_c6e21fa4_ef2b_11e9_a9c0_0242ac1c0002row6_col5\" class=\"data row6 col5\" >1</td>\n",
              "                        <td id=\"T_c6e21fa4_ef2b_11e9_a9c0_0242ac1c0002row6_col6\" class=\"data row6 col6\" >0</td>\n",
              "                        <td id=\"T_c6e21fa4_ef2b_11e9_a9c0_0242ac1c0002row6_col7\" class=\"data row6 col7\" >0</td>\n",
              "                        <td id=\"T_c6e21fa4_ef2b_11e9_a9c0_0242ac1c0002row6_col8\" class=\"data row6 col8\" >0</td>\n",
              "                        <td id=\"T_c6e21fa4_ef2b_11e9_a9c0_0242ac1c0002row6_col9\" class=\"data row6 col9\" >0</td>\n",
              "            </tr>\n",
              "            <tr>\n",
              "                        <th id=\"T_c6e21fa4_ef2b_11e9_a9c0_0242ac1c0002level0_row7\" class=\"row_heading level0 row7\" >7</th>\n",
              "                        <td id=\"T_c6e21fa4_ef2b_11e9_a9c0_0242ac1c0002row7_col0\" class=\"data row7 col0\" >1</td>\n",
              "                        <td id=\"T_c6e21fa4_ef2b_11e9_a9c0_0242ac1c0002row7_col1\" class=\"data row7 col1\" >2</td>\n",
              "                        <td id=\"T_c6e21fa4_ef2b_11e9_a9c0_0242ac1c0002row7_col2\" class=\"data row7 col2\" >3</td>\n",
              "                        <td id=\"T_c6e21fa4_ef2b_11e9_a9c0_0242ac1c0002row7_col3\" class=\"data row7 col3\" >0</td>\n",
              "                        <td id=\"T_c6e21fa4_ef2b_11e9_a9c0_0242ac1c0002row7_col4\" class=\"data row7 col4\" >0</td>\n",
              "                        <td id=\"T_c6e21fa4_ef2b_11e9_a9c0_0242ac1c0002row7_col5\" class=\"data row7 col5\" >0</td>\n",
              "                        <td id=\"T_c6e21fa4_ef2b_11e9_a9c0_0242ac1c0002row7_col6\" class=\"data row7 col6\" >0</td>\n",
              "                        <td id=\"T_c6e21fa4_ef2b_11e9_a9c0_0242ac1c0002row7_col7\" class=\"data row7 col7\" >0</td>\n",
              "                        <td id=\"T_c6e21fa4_ef2b_11e9_a9c0_0242ac1c0002row7_col8\" class=\"data row7 col8\" >1</td>\n",
              "                        <td id=\"T_c6e21fa4_ef2b_11e9_a9c0_0242ac1c0002row7_col9\" class=\"data row7 col9\" >0</td>\n",
              "            </tr>\n",
              "            <tr>\n",
              "                        <th id=\"T_c6e21fa4_ef2b_11e9_a9c0_0242ac1c0002level0_row8\" class=\"row_heading level0 row8\" >8</th>\n",
              "                        <td id=\"T_c6e21fa4_ef2b_11e9_a9c0_0242ac1c0002row8_col0\" class=\"data row8 col0\" >3</td>\n",
              "                        <td id=\"T_c6e21fa4_ef2b_11e9_a9c0_0242ac1c0002row8_col1\" class=\"data row8 col1\" >1</td>\n",
              "                        <td id=\"T_c6e21fa4_ef2b_11e9_a9c0_0242ac1c0002row8_col2\" class=\"data row8 col2\" >3</td>\n",
              "                        <td id=\"T_c6e21fa4_ef2b_11e9_a9c0_0242ac1c0002row8_col3\" class=\"data row8 col3\" >0</td>\n",
              "                        <td id=\"T_c6e21fa4_ef2b_11e9_a9c0_0242ac1c0002row8_col4\" class=\"data row8 col4\" >1</td>\n",
              "                        <td id=\"T_c6e21fa4_ef2b_11e9_a9c0_0242ac1c0002row8_col5\" class=\"data row8 col5\" >0</td>\n",
              "                        <td id=\"T_c6e21fa4_ef2b_11e9_a9c0_0242ac1c0002row8_col6\" class=\"data row8 col6\" >0</td>\n",
              "                        <td id=\"T_c6e21fa4_ef2b_11e9_a9c0_0242ac1c0002row8_col7\" class=\"data row8 col7\" >3</td>\n",
              "                        <td id=\"T_c6e21fa4_ef2b_11e9_a9c0_0242ac1c0002row8_col8\" class=\"data row8 col8\" >0</td>\n",
              "                        <td id=\"T_c6e21fa4_ef2b_11e9_a9c0_0242ac1c0002row8_col9\" class=\"data row8 col9\" >1</td>\n",
              "            </tr>\n",
              "            <tr>\n",
              "                        <th id=\"T_c6e21fa4_ef2b_11e9_a9c0_0242ac1c0002level0_row9\" class=\"row_heading level0 row9\" >9</th>\n",
              "                        <td id=\"T_c6e21fa4_ef2b_11e9_a9c0_0242ac1c0002row9_col0\" class=\"data row9 col0\" >4</td>\n",
              "                        <td id=\"T_c6e21fa4_ef2b_11e9_a9c0_0242ac1c0002row9_col1\" class=\"data row9 col1\" >0</td>\n",
              "                        <td id=\"T_c6e21fa4_ef2b_11e9_a9c0_0242ac1c0002row9_col2\" class=\"data row9 col2\" >0</td>\n",
              "                        <td id=\"T_c6e21fa4_ef2b_11e9_a9c0_0242ac1c0002row9_col3\" class=\"data row9 col3\" >1</td>\n",
              "                        <td id=\"T_c6e21fa4_ef2b_11e9_a9c0_0242ac1c0002row9_col4\" class=\"data row9 col4\" >6</td>\n",
              "                        <td id=\"T_c6e21fa4_ef2b_11e9_a9c0_0242ac1c0002row9_col5\" class=\"data row9 col5\" >3</td>\n",
              "                        <td id=\"T_c6e21fa4_ef2b_11e9_a9c0_0242ac1c0002row9_col6\" class=\"data row9 col6\" >0</td>\n",
              "                        <td id=\"T_c6e21fa4_ef2b_11e9_a9c0_0242ac1c0002row9_col7\" class=\"data row9 col7\" >6</td>\n",
              "                        <td id=\"T_c6e21fa4_ef2b_11e9_a9c0_0242ac1c0002row9_col8\" class=\"data row9 col8\" >5</td>\n",
              "                        <td id=\"T_c6e21fa4_ef2b_11e9_a9c0_0242ac1c0002row9_col9\" class=\"data row9 col9\" >0</td>\n",
              "            </tr>\n",
              "    </tbody></table>"
            ],
            "text/plain": [
              "<pandas.io.formats.style.Styler at 0x7fd2fd07dc88>"
            ]
          },
          "metadata": {
            "tags": []
          },
          "execution_count": 125
        }
      ]
    },
    {
      "cell_type": "markdown",
      "metadata": {
        "id": "6pkJdEwWjgHb",
        "colab_type": "text"
      },
      "source": [
        "# learning analysis"
      ]
    },
    {
      "cell_type": "code",
      "metadata": {
        "id": "YZItCS1UjxE7",
        "colab_type": "code",
        "colab": {
          "base_uri": "https://localhost:8080/",
          "height": 35
        },
        "outputId": "322ba15b-95b2-4016-ba80-2000439399a2"
      },
      "source": [
        "history.history.keys()"
      ],
      "execution_count": 48,
      "outputs": [
        {
          "output_type": "execute_result",
          "data": {
            "text/plain": [
              "dict_keys(['loss', 'acc'])"
            ]
          },
          "metadata": {
            "tags": []
          },
          "execution_count": 48
        }
      ]
    },
    {
      "cell_type": "code",
      "metadata": {
        "id": "kpixrnE5rQ-T",
        "colab_type": "code",
        "colab": {
          "base_uri": "https://localhost:8080/",
          "height": 545
        },
        "outputId": "e96ce345-8701-4177-905c-ad42140fb918"
      },
      "source": [
        "acc = history.history['acc']\n",
        "loss = history.history['loss']\n",
        "epochs = range(1, len(acc) + 1)\n",
        "plt.plot(epochs, acc, 'bo', label='Training acc')\n",
        "plt.title('Training and validation accuracy')\n",
        "plt.legend()\n",
        "plt.figure()\n",
        "plt.plot(epochs, loss, 'bo', label='Training loss')\n",
        "plt.title('Training and validation loss')\n",
        "plt.legend()\n",
        "plt.show()"
      ],
      "execution_count": 49,
      "outputs": [
        {
          "output_type": "display_data",
          "data": {
            "image/png": "[encoded data removed]",
            "text/plain": [
              "<Figure size 432x288 with 1 Axes>"
            ]
          },
          "metadata": {
            "tags": []
          }
        },
        {
          "output_type": "display_data",
          "data": {
            "image/png": "[encoded data removed]",
            "text/plain": [
              "<Figure size 432x288 with 1 Axes>"
            ]
          },
          "metadata": {
            "tags": []
          }
        }
      ]
    },
    {
      "cell_type": "code",
      "metadata": {
        "id": "jTeomKa-jsor",
        "colab_type": "code",
        "colab": {}
      },
      "source": [
        "from keras import models\n",
        "layer_outputs = [layer.output for layer in model.layers[:3]] \n",
        "# Extracts the outputs of the top 2 layers\n",
        "activation_model = models.Model(inputs=model.input, outputs=layer_outputs) # Creates a model that will return these outputs, given the model input"
      ],
      "execution_count": 0,
      "outputs": []
    },
    {
      "cell_type": "code",
      "metadata": {
        "id": "LpX9to5FkbrF",
        "colab_type": "code",
        "colab": {}
      },
      "source": [
        "activations = activation_model.predict(X_test)"
      ],
      "execution_count": 0,
      "outputs": []
    },
    {
      "cell_type": "code",
      "metadata": {
        "id": "STn_uIDbk-0I",
        "colab_type": "code",
        "colab": {
          "base_uri": "https://localhost:8080/",
          "height": 35
        },
        "outputId": "ecf5806d-7fec-4239-a159-00275c957028"
      },
      "source": [
        "activations[1][0].shape"
      ],
      "execution_count": 84,
      "outputs": [
        {
          "output_type": "execute_result",
          "data": {
            "text/plain": [
              "(32, 24, 24)"
            ]
          },
          "metadata": {
            "tags": []
          },
          "execution_count": 84
        }
      ]
    },
    {
      "cell_type": "code",
      "metadata": {
        "id": "CXABZdBfvqOK",
        "colab_type": "code",
        "colab": {
          "base_uri": "https://localhost:8080/",
          "height": 35
        },
        "outputId": "c40594d5-300a-4662-95fe-bad1bbb63643"
      },
      "source": [
        "activations[0][0].shape"
      ],
      "execution_count": 69,
      "outputs": [
        {
          "output_type": "execute_result",
          "data": {
            "text/plain": [
              "(32, 26, 26)"
            ]
          },
          "metadata": {
            "tags": []
          },
          "execution_count": 69
        }
      ]
    },
    {
      "cell_type": "markdown",
      "metadata": {
        "id": "AL8CpJay0M76",
        "colab_type": "text"
      },
      "source": [
        "## CNN layer 1:"
      ]
    },
    {
      "cell_type": "code",
      "metadata": {
        "id": "iWhmnIeOl3TX",
        "colab_type": "code",
        "colab": {
          "base_uri": "https://localhost:8080/",
          "height": 595
        },
        "outputId": "f169da26-df50-4b67-80cb-d7fc8f033a71"
      },
      "source": [
        "plt.figure(figsize=(10,10))\n",
        "for i in range(32):\n",
        "    plt.subplot(6, 6, i+1)\n",
        "    plt.imshow(activations[0][0][i])"
      ],
      "execution_count": 77,
      "outputs": [
        {
          "output_type": "display_data",
          "data": {
            "image/png": "[encoded data removed]",
            "text/plain": [
              "<Figure size 720x720 with 32 Axes>"
            ]
          },
          "metadata": {
            "tags": []
          }
        }
      ]
    },
    {
      "cell_type": "markdown",
      "metadata": {
        "id": "orpY2uHS0ZFu",
        "colab_type": "text"
      },
      "source": [
        "## CNN layer 2:"
      ]
    },
    {
      "cell_type": "code",
      "metadata": {
        "id": "jfPMeSDCx62z",
        "colab_type": "code",
        "colab": {
          "base_uri": "https://localhost:8080/",
          "height": 595
        },
        "outputId": "9e622bdf-a1b9-4c29-ee08-9508f33b20ae"
      },
      "source": [
        "plt.figure(figsize=(10,10))\n",
        "for i in range(32):\n",
        "    plt.subplot(6, 6, i+1)\n",
        "    plt.imshow(activations[1][0][i])"
      ],
      "execution_count": 85,
      "outputs": [
        {
          "output_type": "display_data",
          "data": {
            "image/png": "[encoded data removed]",
            "text/plain": [
              "<Figure size 720x720 with 32 Axes>"
            ]
          },
          "metadata": {
            "tags": []
          }
        }
      ]
    },
    {
      "cell_type": "markdown",
      "metadata": {
        "id": "oT3jSUM60ifL",
        "colab_type": "text"
      },
      "source": [
        "## digit '9' version 1 - CNN level 2:"
      ]
    },
    {
      "cell_type": "code",
      "metadata": {
        "id": "4QfbOIi7yxF_",
        "colab_type": "code",
        "colab": {
          "base_uri": "https://localhost:8080/",
          "height": 595
        },
        "outputId": "08b3f2c9-c01e-4fb2-9b18-d19b793dd3f6"
      },
      "source": [
        "plt.figure(figsize=(10,10))\n",
        "for i in range(32):\n",
        "    plt.subplot(6, 6, i+1)\n",
        "    plt.imshow(activations[1][9][i])"
      ],
      "execution_count": 103,
      "outputs": [
        {
          "output_type": "display_data",
          "data": {
            "image/png": "[encoded data removed]",
            "text/plain": [
              "<Figure size 720x720 with 32 Axes>"
            ]
          },
          "metadata": {
            "tags": []
          }
        }
      ]
    },
    {
      "cell_type": "markdown",
      "metadata": {
        "id": "CkZ3yoCP0sNq",
        "colab_type": "text"
      },
      "source": [
        "## digit '9' version 2 - CNN level 2:"
      ]
    },
    {
      "cell_type": "code",
      "metadata": {
        "id": "GlV4WBily0A1",
        "colab_type": "code",
        "colab": {
          "base_uri": "https://localhost:8080/",
          "height": 595
        },
        "outputId": "b558247a-0d52-4a9e-8f70-795a0fd3645f"
      },
      "source": [
        "plt.figure(figsize=(10,10))\n",
        "for i in range(32):\n",
        "    plt.subplot(6, 6, i+1)\n",
        "    plt.imshow(activations[1][7][i])"
      ],
      "execution_count": 104,
      "outputs": [
        {
          "output_type": "display_data",
          "data": {
            "image/png": "[encoded data removed]",
            "text/plain": [
              "<Figure size 720x720 with 32 Axes>"
            ]
          },
          "metadata": {
            "tags": []
          }
        }
      ]
    },
    {
      "cell_type": "code",
      "metadata": {
        "id": "zZZZfwYqy_7b",
        "colab_type": "code",
        "colab": {}
      },
      "source": [
        ""
      ],
      "execution_count": 0,
      "outputs": []
    }
  ]
}