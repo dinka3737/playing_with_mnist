{
 "cells": [
  {
   "cell_type": "markdown",
   "metadata": {},
   "source": [
    "reasons to use CNNs:\n",
    "* make images smaller (not in this case)\n",
    "* help define edges (sobel filters)\n",
    "* enable network to 'move' the digit inside the image limits"
   ]
  },
  {
   "cell_type": "code",
   "execution_count": 6,
   "metadata": {},
   "outputs": [],
   "source": [
    "import numpy as np\n",
    "np.random.seed(123) \n",
    "import matplotlib.pyplot as plt\n",
    "%matplotlib inline"
   ]
  },
  {
   "cell_type": "code",
   "execution_count": null,
   "metadata": {},
   "outputs": [],
   "source": [
    "from tensorflow.python.keras import backend as k"
   ]
  },
  {
   "cell_type": "code",
   "execution_count": 3,
   "metadata": {},
   "outputs": [],
   "source": [
    "from tensorflow.python.keras.models import Sequential\n",
    "from tensorflow.python.keras.utils import np_utils\n",
    "\n",
    "#core layers:\n",
    "from tensorflow.python.keras.layers import Dense, Dropout, Activation, Flatten\n",
    "#CNN layers:\n",
    "from tensorflow.python.keras.layers import Convolution2D, MaxPooling2D\n",
    "\n",
    "# from keras import backend as K\n",
    "# K.set_image_dim_ordering('th')"
   ]
  },
  {
   "cell_type": "code",
   "execution_count": 4,
   "metadata": {},
   "outputs": [],
   "source": [
    "from tensorflow.python.keras.datasets import mnist\n",
    "(X_train, y_train), (X_test, y_test) = mnist.load_data()"
   ]
  },
  {
   "cell_type": "code",
   "execution_count": 9,
   "metadata": {},
   "outputs": [],
   "source": [
    "from scipy import signal\n",
    "sobel_v = np.array([[-1,0,1],[-2,0,2],[-1,0,1]])\n",
    "sobel_h = np.transpose(np.array([[-1,0,1],[-2,0,2],[-1,0,1]]))\n",
    "grad_v = signal.convolve2d(orig, sobel_v, boundary='symm', mode='same')\n",
    "grad_h = signal.convolve2d(orig, sobel_h, boundary='symm', mode='same')"
   ]
  },
  {
   "cell_type": "code",
   "execution_count": 10,
   "metadata": {},
   "outputs": [
    {
     "data": {
      "image/png": "[encoded data removed]",
      "text/plain": [
       "<Figure size 432x288 with 3 Axes>"
      ]
     },
     "metadata": {},
     "output_type": "display_data"
    }
   ],
   "source": [
    "fig = plt.figure()\n",
    "plt.gray()  # show the filtered result in grayscale\n",
    "ax1 = fig.add_subplot(131)  # left side\n",
    "ax2 = fig.add_subplot(132) \n",
    "ax3 = fig.add_subplot(133)\n",
    "ax1.imshow(orig)\n",
    "ax2.imshow(grad_v)\n",
    "ax3.imshow(grad_h)\n",
    "plt.show()"
   ]
  },
  {
   "cell_type": "code",
   "execution_count": 39,
   "metadata": {},
   "outputs": [],
   "source": [
    "from scipy import signal\n",
    "try1 = np.array([[1,0,1],[2,0,-2],[1,0,0]])\n",
    "try2 = np.transpose(np.array([[2,0,-1],[4,0,-2],[2,0,-1]]))\n",
    "grad_v = signal.convolve2d(orig, try1, boundary='symm', mode='same')\n",
    "grad_h = signal.convolve2d(orig, try2, boundary='symm', mode='same')"
   ]
  },
  {
   "cell_type": "code",
   "execution_count": 40,
   "metadata": {},
   "outputs": [
    {
     "data": {
      "image/png": "[encoded data removed]",
      "text/plain": [
       "<Figure size 432x288 with 3 Axes>"
      ]
     },
     "metadata": {},
     "output_type": "display_data"
    }
   ],
   "source": [
    "fig = plt.figure()\n",
    "#plt.gray()  # show the filtered result in grayscale\n",
    "ax1 = fig.add_subplot(131)  # left side\n",
    "ax2 = fig.add_subplot(132) \n",
    "ax3 = fig.add_subplot(133)\n",
    "ax1.imshow(orig)\n",
    "ax2.imshow(grad_v)\n",
    "ax3.imshow(grad_h)\n",
    "plt.show()"
   ]
  },
  {
   "cell_type": "code",
   "execution_count": 28,
   "metadata": {},
   "outputs": [],
   "source": [
    "from scipy import signal\n",
    "try1 = np.array([[1,0,0],[0,0,0],[0,0,0]])\n",
    "try2 = np.transpose(np.array([[0,0,0],[0,0,0],[0,0,1]]))\n",
    "grad_v = signal.convolve2d(orig, try1, boundary='symm', mode='same')\n",
    "grad_h = signal.convolve2d(orig, try2, boundary='symm', mode='same')"
   ]
  },
  {
   "cell_type": "code",
   "execution_count": 29,
   "metadata": {},
   "outputs": [
    {
     "data": {
      "image/png": "[encoded data removed]",
      "text/plain": [
       "<Figure size 432x288 with 3 Axes>"
      ]
     },
     "metadata": {},
     "output_type": "display_data"
    }
   ],
   "source": [
    "fig = plt.figure()\n",
    "#plt.gray()  # show the filtered result in grayscale\n",
    "ax1 = fig.add_subplot(131)  # left side\n",
    "ax2 = fig.add_subplot(132) \n",
    "ax3 = fig.add_subplot(133)\n",
    "ax1.imshow(orig)\n",
    "ax2.imshow(grad_v)\n",
    "ax3.imshow(grad_h)\n",
    "plt.show()"
   ]
  },
  {
   "cell_type": "code",
   "execution_count": 43,
   "metadata": {},
   "outputs": [],
   "source": [
    "from scipy import signal\n",
    "try1 = np.array([[0,0,0],[0,0,0],[1,0,0]])\n",
    "try2 = np.transpose(np.array([[0,0,0],[1,0,0],[0,0,0]]))\n",
    "grad_v = signal.convolve2d(orig, try1, boundary='symm', mode='same')\n",
    "grad_h = signal.convolve2d(orig, try2, boundary='symm', mode='same')"
   ]
  },
  {
   "cell_type": "code",
   "execution_count": 44,
   "metadata": {},
   "outputs": [
    {
     "data": {
      "image/png": "[encoded data removed]",
      "text/plain": [
       "<Figure size 432x288 with 3 Axes>"
      ]
     },
     "metadata": {},
     "output_type": "display_data"
    }
   ],
   "source": [
    "fig = plt.figure()\n",
    "#plt.gray()  # show the filtered result in grayscale\n",
    "ax1 = fig.add_subplot(131)  # left side\n",
    "ax2 = fig.add_subplot(132) \n",
    "ax3 = fig.add_subplot(133)\n",
    "ax1.imshow(orig)\n",
    "ax2.imshow(grad_v)\n",
    "ax3.imshow(grad_h)\n",
    "plt.show()"
   ]
  },
  {
   "cell_type": "code",
   "execution_count": null,
   "metadata": {},
   "outputs": [],
   "source": []
  },
  {
   "cell_type": "code",
   "execution_count": null,
   "metadata": {},
   "outputs": [],
   "source": []
  }
 ],
 "metadata": {
  "kernelspec": {
   "display_name": "Python 3",
   "language": "python",
   "name": "python3"
  },
  "language_info": {
   "codemirror_mode": {
    "name": "ipython",
    "version": 3
   },
   "file_extension": ".py",
   "mimetype": "text/x-python",
   "name": "python",
   "nbconvert_exporter": "python",
   "pygments_lexer": "ipython3",
   "version": "3.6.3"
  }
 },
 "nbformat": 4,
 "nbformat_minor": 2
}
